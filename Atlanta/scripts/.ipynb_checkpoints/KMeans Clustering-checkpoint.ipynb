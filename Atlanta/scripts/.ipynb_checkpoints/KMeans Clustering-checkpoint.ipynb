{
 "cells": [
  {
   "cell_type": "code",
   "execution_count": 1,
   "metadata": {},
   "outputs": [],
   "source": [
    "import pickle\n",
    "\n",
    "#file = open(\"./geoid_to_crimecount.pickle\", \"rb\")\n",
    "#dict = pickle.load(file)\n",
    "#counts = list(dict.values())\n",
    "#counts = [x + 0.00001 for x in counts] #Add offset to allow for log transformation later (ensure no values are 0)"
   ]
  },
  {
   "cell_type": "code",
   "execution_count": 2,
   "metadata": {},
   "outputs": [
    {
     "name": "stdout",
     "output_type": "stream",
     "text": [
      "128171.0\n"
     ]
    }
   ],
   "source": [
    "import geoid_income_utils\n",
    "\n",
    "counts = geoid_income_utils.getIncomes()\n",
    "print(counts[1])\n",
    "counts.sort()"
   ]
  },
  {
   "cell_type": "code",
   "execution_count": 4,
   "metadata": {},
   "outputs": [],
   "source": [
    "import numpy as np\n",
    "import math\n",
    "from sklearn.cluster import KMeans\n",
    "import matplotlib.pyplot as plt\n",
    "from collections import Counter\n",
    "\n",
    "import pandas as pd\n",
    "from collections import defaultdict\n",
    "#import bin_to_folder as b2f"
   ]
  },
  {
   "cell_type": "code",
   "execution_count": 5,
   "metadata": {
    "scrolled": true
   },
   "outputs": [
    {
     "data": {
      "image/png": "[encoded data removed]",
      "text/plain": [
       "<Figure size 432x288 with 1 Axes>"
      ]
     },
     "metadata": {
      "needs_background": "light"
     },
     "output_type": "display_data"
    }
   ],
   "source": [
    "counts_np = np.asarray(counts)\n",
    "#counts_np = np.log(counts_np)\n",
    "counts_np = counts_np.reshape((-1, 1))\n",
    "\n",
    "\n",
    "distortions = []\n",
    "for i in range(1, 11):\n",
    "    km = KMeans(\n",
    "        n_clusters=i, init='random',\n",
    "        n_init=10, max_iter=300,\n",
    "        tol=1e-04, random_state=0\n",
    "    )\n",
    "    km.fit(counts_np)\n",
    "    distortions.append(km.inertia_)\n",
    "\n",
    "# plot\n",
    "plt.plot(range(1, 11), distortions, marker='o')\n",
    "plt.xlabel('Number of clusters')\n",
    "plt.ylabel('Distortion')\n",
    "plt.show()"
   ]
  },
  {
   "cell_type": "code",
   "execution_count": 6,
   "metadata": {},
   "outputs": [
    {
     "name": "stdout",
     "output_type": "stream",
     "text": [
      "Counter({1: 144, 0: 58})\n",
      "2-Means Clustering Cutoffs:\n",
      "[35486.0, 210667.0]\n"
     ]
    }
   ],
   "source": [
    "#Perform 2-Means Clustering\n",
    "km = KMeans(n_clusters = 2, random_state = 0)\n",
    "km.fit(counts_np)\n",
    "y = km.predict(counts_np)\n",
    "cluster_counts = Counter(y)\n",
    "print(cluster_counts)\n",
    "\n",
    "curr_count = 0\n",
    "cutoffs = []\n",
    "for i in range(2):\n",
    "    curr_count += cluster_counts[i]\n",
    "    cutoffs.append(counts[curr_count - 1])\n",
    "print(\"2-Means Clustering Cutoffs:\")\n",
    "print(cutoffs)"
   ]
  },
  {
   "cell_type": "code",
   "execution_count": 7,
   "metadata": {
    "scrolled": true
   },
   "outputs": [
    {
     "name": "stdout",
     "output_type": "stream",
     "text": [
      "Class 0: 28.71287128712871% of incomes, 0.2871287128712871 percentile\n",
      "Class 1: 71.28712871287128% of incomes, 1.0 percentile\n"
     ]
    }
   ],
   "source": [
    "#Percentiles using 2-Means Clustering\n",
    "total = sum(cluster_counts.values())\n",
    "running_sum = cluster_counts[0]\n",
    "print(\"Class 0: \" + str(cluster_counts[0]/total * 100) + \"% of incomes, \" + str(running_sum/total) + \" percentile\")\n",
    "running_sum += cluster_counts[1]\n",
    "print(\"Class 1: \" + str(cluster_counts[1]/total * 100) + \"% of incomes, \" + str(running_sum/total) + \" percentile\")"
   ]
  },
  {
   "cell_type": "code",
   "execution_count": 8,
   "metadata": {},
   "outputs": [
    {
     "name": "stdout",
     "output_type": "stream",
     "text": [
      "Counter({1: 102, 2: 73, 0: 27})\n",
      "3-Means Clustering Cutoffs:\n",
      "[26604.0, 75375.0, 210667.0]\n"
     ]
    }
   ],
   "source": [
    "#Perform 3-Means Clustering\n",
    "km = KMeans(n_clusters = 3, random_state = 0)\n",
    "km.fit(counts_np)\n",
    "y = km.predict(counts_np)\n",
    "cluster_counts = Counter(y)\n",
    "print(cluster_counts)\n",
    "\n",
    "curr_count = 0\n",
    "cutoffs = []\n",
    "for i in range(3):\n",
    "    curr_count += cluster_counts[i]\n",
    "    cutoffs.append(counts[curr_count - 1])\n",
    "print(\"3-Means Clustering Cutoffs:\")\n",
    "print(cutoffs)"
   ]
  },
  {
   "cell_type": "code",
   "execution_count": 9,
   "metadata": {
    "scrolled": true
   },
   "outputs": [
    {
     "name": "stdout",
     "output_type": "stream",
     "text": [
      "Class 0: 13.366336633663368% of incomes, 0.13366336633663367 percentile\n",
      "Class 1: 50.495049504950494% of incomes, 0.6386138613861386 percentile\n",
      "Class 2: 36.13861386138614% of incomes, 1.0 percentile\n"
     ]
    }
   ],
   "source": [
    "#Percentiles using 3-Means Clustering\n",
    "total = sum(cluster_counts.values())\n",
    "running_sum = cluster_counts[0]\n",
    "print(\"Class 0: \" + str(cluster_counts[0]/total * 100) + \"% of incomes, \" + str(running_sum/total) + \" percentile\")\n",
    "running_sum += cluster_counts[1]\n",
    "print(\"Class 1: \" + str(cluster_counts[1]/total * 100) + \"% of incomes, \" + str(running_sum/total) + \" percentile\")\n",
    "running_sum += cluster_counts[2]\n",
    "print(\"Class 2: \" + str(cluster_counts[2]/total * 100) + \"% of incomes, \" + str(running_sum/total) + \" percentile\")"
   ]
  },
  {
   "cell_type": "code",
   "execution_count": 10,
   "metadata": {},
   "outputs": [
    {
     "name": "stdout",
     "output_type": "stream",
     "text": [
      "Counter({1: 86, 3: 60, 0: 36, 2: 20})\n",
      "4-Means Clustering Cutoffs:\n",
      "[29185.0, 73603.0, 85625.0, 210667.0]\n"
     ]
    }
   ],
   "source": [
    "#Perform 4-Means Clustering\n",
    "km = KMeans(n_clusters = 4, random_state = 0)\n",
    "km.fit(counts_np)\n",
    "y = km.predict(counts_np)\n",
    "cluster_counts = Counter(y)\n",
    "print(cluster_counts)\n",
    "\n",
    "curr_count = 0\n",
    "cutoffs = []\n",
    "for i in range(4):\n",
    "    curr_count += cluster_counts[i]\n",
    "    cutoffs.append(counts[curr_count - 1])\n",
    "print(\"4-Means Clustering Cutoffs:\")\n",
    "print(cutoffs)"
   ]
  },
  {
   "cell_type": "code",
   "execution_count": 11,
   "metadata": {
    "scrolled": false
   },
   "outputs": [
    {
     "name": "stdout",
     "output_type": "stream",
     "text": [
      "Class 0: 17.82178217821782% of incomes, 0.1782178217821782 percentile\n",
      "Class 1: 42.57425742574257% of incomes, 0.6039603960396039 percentile\n",
      "Class 2: 9.900990099009901% of incomes, 0.7029702970297029 percentile\n",
      "Class 3: 29.7029702970297% of incomes, 1.0 percentile\n"
     ]
    }
   ],
   "source": [
    "#Percentiles using 4-Means Clustering\n",
    "total = sum(cluster_counts.values())\n",
    "running_sum = cluster_counts[0]\n",
    "print(\"Class 0: \" + str(cluster_counts[0]/total * 100) + \"% of incomes, \" + str(running_sum/total) + \" percentile\")\n",
    "running_sum += cluster_counts[1]\n",
    "print(\"Class 1: \" + str(cluster_counts[1]/total * 100) + \"% of incomes, \" + str(running_sum/total) + \" percentile\")\n",
    "running_sum += cluster_counts[2]\n",
    "print(\"Class 2: \" + str(cluster_counts[2]/total * 100) + \"% of incomes, \" + str(running_sum/total) + \" percentile\")\n",
    "running_sum += cluster_counts[3]\n",
    "print(\"Class 3: \" + str(cluster_counts[3]/total * 100) + \"% of incomes, \" + str(running_sum/total) + \" percentile\")"
   ]
  }
 ],
 "metadata": {
  "kernelspec": {
   "display_name": "Python 3",
   "language": "python",
   "name": "python3"
  },
  "language_info": {
   "codemirror_mode": {
    "name": "ipython",
    "version": 3
   },
   "file_extension": ".py",
   "mimetype": "text/x-python",
   "name": "python",
   "nbconvert_exporter": "python",
   "pygments_lexer": "ipython3",
   "version": "3.6.7"
  }
 },
 "nbformat": 4,
 "nbformat_minor": 2
}
