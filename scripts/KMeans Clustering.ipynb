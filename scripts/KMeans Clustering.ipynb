{
 "cells": [
  {
   "cell_type": "code",
   "execution_count": 1,
   "metadata": {},
   "outputs": [],
   "source": [
    "import pickle\n",
    "\n",
    "#file = open(\"./geoid_to_crimecount.pickle\", \"rb\")\n",
    "#dict = pickle.load(file)\n",
    "#counts = list(dict.values())\n",
    "#counts = [x + 0.00001 for x in counts] #Add offset to allow for log transformation later (ensure no values are 0)"
   ]
  },
  {
   "cell_type": "code",
   "execution_count": 2,
   "metadata": {},
   "outputs": [
    {
     "name": "stdout",
     "output_type": "stream",
     "text": [
      "44107.0\n"
     ]
    }
   ],
   "source": [
    "import geoid_income_utils\n",
    "\n",
    "counts = geoid_income_utils.getIncomes()\n",
    "print(counts[1])\n",
    "counts.sort()"
   ]
  },
  {
   "cell_type": "code",
   "execution_count": 3,
   "metadata": {},
   "outputs": [
    {
     "data": {
      "text/plain": [
       "141"
      ]
     },
     "execution_count": 3,
     "metadata": {},
     "output_type": "execute_result"
    }
   ],
   "source": [
    "counts.sort()\n",
    "len(counts)"
   ]
  },
  {
   "cell_type": "code",
   "execution_count": 4,
   "metadata": {},
   "outputs": [],
   "source": [
    "import numpy as np\n",
    "import math\n",
    "from sklearn.cluster import KMeans\n",
    "import matplotlib.pyplot as plt\n",
    "from collections import Counter\n",
    "\n",
    "import pandas as pd\n",
    "from collections import defaultdict\n",
    "#import bin_to_folder as b2f"
   ]
  },
  {
   "cell_type": "code",
   "execution_count": 5,
   "metadata": {
    "scrolled": true
   },
   "outputs": [
    {
     "data": {
      "image/png": "[encoded data removed]",
      "text/plain": [
       "<Figure size 432x288 with 1 Axes>"
      ]
     },
     "metadata": {
      "needs_background": "light"
     },
     "output_type": "display_data"
    }
   ],
   "source": [
    "counts_np = np.asarray(counts)\n",
    "#counts_np = np.log(counts_np)\n",
    "counts_np = counts_np.reshape((-1, 1))\n",
    "\n",
    "\n",
    "distortions = []\n",
    "for i in range(1, 11):\n",
    "    km = KMeans(\n",
    "        n_clusters=i, init='random',\n",
    "        n_init=10, max_iter=300,\n",
    "        tol=1e-04, random_state=0\n",
    "    )\n",
    "    km.fit(counts_np)\n",
    "    distortions.append(km.inertia_)\n",
    "\n",
    "# plot\n",
    "plt.plot(range(1, 11), distortions, marker='o')\n",
    "plt.xlabel('Number of clusters')\n",
    "plt.ylabel('Distortion')\n",
    "plt.show()"
   ]
  },
  {
   "cell_type": "code",
   "execution_count": 6,
   "metadata": {},
   "outputs": [
    {
     "name": "stdout",
     "output_type": "stream",
     "text": [
      "Counter({1: 94, 0: 47})\n",
      "2-Means Clustering Cutoffs:\n",
      "[45477.0, 176103.0]\n"
     ]
    }
   ],
   "source": [
    "#Perform 2-Means Clustering\n",
    "km = KMeans(n_clusters = 2, random_state = 0)\n",
    "km.fit(counts_np)\n",
    "y = km.predict(counts_np)\n",
    "cluster_counts = Counter(y)\n",
    "print(cluster_counts)\n",
    "\n",
    "curr_count = 0\n",
    "cutoffs = []\n",
    "for i in range(2):\n",
    "    curr_count += cluster_counts[i]\n",
    "    cutoffs.append(counts[curr_count - 1])\n",
    "print(\"2-Means Clustering Cutoffs:\")\n",
    "print(cutoffs)"
   ]
  },
  {
   "cell_type": "code",
   "execution_count": 7,
   "metadata": {
    "scrolled": true
   },
   "outputs": [
    {
     "name": "stdout",
     "output_type": "stream",
     "text": [
      "Class 0: 33.33333333333333% of incomes, 0.3333333333333333 percentile\n",
      "Class 1: 66.66666666666666% of incomes, 1.0 percentile\n"
     ]
    }
   ],
   "source": [
    "#Percentiles using 2-Means Clustering\n",
    "total = sum(cluster_counts.values())\n",
    "running_sum = cluster_counts[0]\n",
    "print(\"Class 0: \" + str(cluster_counts[0]/total * 100) + \"% of incomes, \" + str(running_sum/total) + \" percentile\")\n",
    "running_sum += cluster_counts[1]\n",
    "print(\"Class 1: \" + str(cluster_counts[1]/total * 100) + \"% of incomes, \" + str(running_sum/total) + \" percentile\")"
   ]
  },
  {
   "cell_type": "code",
   "execution_count": 8,
   "metadata": {},
   "outputs": [
    {
     "name": "stdout",
     "output_type": "stream",
     "text": [
      "Counter({0: 62, 2: 45, 1: 34})\n",
      "3-Means Clustering Cutoffs:\n",
      "[50117.0, 65129.0, 176103.0]\n"
     ]
    }
   ],
   "source": [
    "#Perform 3-Means Clustering\n",
    "km = KMeans(n_clusters = 3, random_state = 0)\n",
    "km.fit(counts_np)\n",
    "y = km.predict(counts_np)\n",
    "cluster_counts = Counter(y)\n",
    "print(cluster_counts)\n",
    "\n",
    "curr_count = 0\n",
    "cutoffs = []\n",
    "for i in range(3):\n",
    "    curr_count += cluster_counts[i]\n",
    "    cutoffs.append(counts[curr_count - 1])\n",
    "print(\"3-Means Clustering Cutoffs:\")\n",
    "print(cutoffs)"
   ]
  },
  {
   "cell_type": "code",
   "execution_count": 9,
   "metadata": {
    "scrolled": true
   },
   "outputs": [
    {
     "name": "stdout",
     "output_type": "stream",
     "text": [
      "Class 0: 43.97163120567376% of incomes, 0.4397163120567376 percentile\n",
      "Class 1: 24.113475177304963% of incomes, 0.6808510638297872 percentile\n",
      "Class 2: 31.914893617021278% of incomes, 1.0 percentile\n"
     ]
    }
   ],
   "source": [
    "#Percentiles using 3-Means Clustering\n",
    "total = sum(cluster_counts.values())\n",
    "running_sum = cluster_counts[0]\n",
    "print(\"Class 0: \" + str(cluster_counts[0]/total * 100) + \"% of incomes, \" + str(running_sum/total) + \" percentile\")\n",
    "running_sum += cluster_counts[1]\n",
    "print(\"Class 1: \" + str(cluster_counts[1]/total * 100) + \"% of incomes, \" + str(running_sum/total) + \" percentile\")\n",
    "running_sum += cluster_counts[2]\n",
    "print(\"Class 2: \" + str(cluster_counts[2]/total * 100) + \"% of incomes, \" + str(running_sum/total) + \" percentile\")"
   ]
  },
  {
   "cell_type": "code",
   "execution_count": 10,
   "metadata": {},
   "outputs": [
    {
     "name": "stdout",
     "output_type": "stream",
     "text": [
      "Counter({3: 60, 1: 45, 0: 33, 2: 3})\n",
      "4-Means Clustering Cutoffs:\n",
      "[39375.0, 55625.0, 57250.0, 176103.0]\n"
     ]
    }
   ],
   "source": [
    "#Perform 4-Means Clustering\n",
    "km = KMeans(n_clusters = 4, random_state = 0)\n",
    "km.fit(counts_np)\n",
    "y = km.predict(counts_np)\n",
    "cluster_counts = Counter(y)\n",
    "print(cluster_counts)\n",
    "\n",
    "curr_count = 0\n",
    "cutoffs = []\n",
    "for i in range(4):\n",
    "    curr_count += cluster_counts[i]\n",
    "    cutoffs.append(counts[curr_count - 1])\n",
    "print(\"4-Means Clustering Cutoffs:\")\n",
    "print(cutoffs)"
   ]
  },
  {
   "cell_type": "code",
   "execution_count": 11,
   "metadata": {
    "scrolled": false
   },
   "outputs": [
    {
     "name": "stdout",
     "output_type": "stream",
     "text": [
      "Class 0: 23.404255319148938% of incomes, 0.23404255319148937 percentile\n",
      "Class 1: 31.914893617021278% of incomes, 0.5531914893617021 percentile\n",
      "Class 2: 2.127659574468085% of incomes, 0.574468085106383 percentile\n",
      "Class 3: 42.5531914893617% of incomes, 1.0 percentile\n"
     ]
    }
   ],
   "source": [
    "#Percentiles using 4-Means Clustering\n",
    "total = sum(cluster_counts.values())\n",
    "running_sum = cluster_counts[0]\n",
    "print(\"Class 0: \" + str(cluster_counts[0]/total * 100) + \"% of incomes, \" + str(running_sum/total) + \" percentile\")\n",
    "running_sum += cluster_counts[1]\n",
    "print(\"Class 1: \" + str(cluster_counts[1]/total * 100) + \"% of incomes, \" + str(running_sum/total) + \" percentile\")\n",
    "running_sum += cluster_counts[2]\n",
    "print(\"Class 2: \" + str(cluster_counts[2]/total * 100) + \"% of incomes, \" + str(running_sum/total) + \" percentile\")\n",
    "running_sum += cluster_counts[3]\n",
    "print(\"Class 3: \" + str(cluster_counts[3]/total * 100) + \"% of incomes, \" + str(running_sum/total) + \" percentile\")"
   ]
  },
  {
   "cell_type": "code",
   "execution_count": null,
   "metadata": {},
   "outputs": [],
   "source": []
  }
 ],
 "metadata": {
  "kernelspec": {
   "display_name": "Python 3",
   "language": "python",
   "name": "python3"
  },
  "language_info": {
   "codemirror_mode": {
    "name": "ipython",
    "version": 3
   },
   "file_extension": ".py",
   "mimetype": "text/x-python",
   "name": "python",
   "nbconvert_exporter": "python",
   "pygments_lexer": "ipython3",
   "version": "3.6.7"
  }
 },
 "nbformat": 4,
 "nbformat_minor": 2
}
