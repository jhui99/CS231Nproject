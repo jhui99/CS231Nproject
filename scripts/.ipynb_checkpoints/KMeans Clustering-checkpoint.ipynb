{
 "cells": [
  {
   "cell_type": "code",
   "execution_count": 1,
   "metadata": {},
   "outputs": [],
   "source": [
    "import pickle\n",
    "\n",
    "#file = open(\"./geoid_to_crimecount.pickle\", \"rb\")\n",
    "#dict = pickle.load(file)\n",
    "#counts = list(dict.values())\n",
    "#counts = [x + 0.00001 for x in counts] #Add offset to allow for log transformation later (ensure no values are 0)"
   ]
  },
  {
   "cell_type": "code",
   "execution_count": 4,
   "metadata": {},
   "outputs": [
    {
     "name": "stdout",
     "output_type": "stream",
     "text": [
      "143897.0\n"
     ]
    }
   ],
   "source": [
    "import geoid_income_utils\n",
    "\n",
    "counts = geoid_income_utils.getIncomes()\n",
    "print(counts[1])"
   ]
  },
  {
   "cell_type": "code",
   "execution_count": 6,
   "metadata": {},
   "outputs": [],
   "source": [
    "import numpy as np\n",
    "import math\n",
    "from sklearn.cluster import KMeans\n",
    "import matplotlib.pyplot as plt\n",
    "from collections import Counter\n",
    "\n",
    "import pandas as pd\n",
    "from collections import defaultdict\n",
    "#import bin_to_folder as b2f"
   ]
  },
  {
   "cell_type": "code",
   "execution_count": 19,
   "metadata": {
    "scrolled": true
   },
   "outputs": [
    {
     "data": {
      "image/png": "[encoded data removed]",
      "text/plain": [
       "<Figure size 432x288 with 1 Axes>"
      ]
     },
     "metadata": {
      "needs_background": "light"
     },
     "output_type": "display_data"
    }
   ],
   "source": [
    "counts_np = np.asarray(counts)\n",
    "#counts_np = np.log(counts_np)\n",
    "counts_np = counts_np.reshape((-1, 1))\n",
    "\n",
    "\n",
    "distortions = []\n",
    "for i in range(1, 11):\n",
    "    km = KMeans(\n",
    "        n_clusters=i, init='random',\n",
    "        n_init=10, max_iter=300,\n",
    "        tol=1e-04, random_state=0\n",
    "    )\n",
    "    km.fit(counts_np)\n",
    "    distortions.append(km.inertia_)\n",
    "\n",
    "# plot\n",
    "plt.plot(range(1, 11), distortions, marker='o')\n",
    "plt.xlabel('Number of clusters')\n",
    "plt.ylabel('Distortion')\n",
    "plt.show()"
   ]
  },
  {
   "cell_type": "code",
   "execution_count": 35,
   "metadata": {},
   "outputs": [
    {
     "name": "stdout",
     "output_type": "stream",
     "text": [
      "Counter({0: 565, 1: 322})\n"
     ]
    }
   ],
   "source": [
    "#Perform 2-Means Clustering\n",
    "km = KMeans(n_clusters = 2, random_state = 0)\n",
    "km.fit(counts_np)\n",
    "y = km.predict(counts_np)\n",
    "cluster_counts = Counter(y)\n",
    "print(cluster_counts)"
   ]
  },
  {
   "cell_type": "code",
   "execution_count": 36,
   "metadata": {
    "scrolled": true
   },
   "outputs": [
    {
     "name": "stdout",
     "output_type": "stream",
     "text": [
      "Class 0: 63.6978579481398% of incomes, 0.636978579481398 percentile\n",
      "Class 1: 36.3021420518602% of incomes, 1.0 percentile\n"
     ]
    }
   ],
   "source": [
    "#Percentiles using 2-Means Clustering\n",
    "total = sum(cluster_counts.values())\n",
    "running_sum = cluster_counts[0]\n",
    "print(\"Class 0: \" + str(cluster_counts[0]/total * 100) + \"% of incomes, \" + str(running_sum/total) + \" percentile\")\n",
    "running_sum += cluster_counts[1]\n",
    "print(\"Class 1: \" + str(cluster_counts[1]/total * 100) + \"% of incomes, \" + str(running_sum/total) + \" percentile\")"
   ]
  },
  {
   "cell_type": "code",
   "execution_count": 37,
   "metadata": {},
   "outputs": [
    {
     "name": "stdout",
     "output_type": "stream",
     "text": [
      "Counter({0: 380, 1: 361, 2: 146})\n"
     ]
    }
   ],
   "source": [
    "#Perform 3-Means Clustering\n",
    "km = KMeans(n_clusters = 3, random_state = 0)\n",
    "km.fit(counts_np)\n",
    "y = km.predict(counts_np)\n",
    "cluster_counts = Counter(y)\n",
    "print(cluster_counts)"
   ]
  },
  {
   "cell_type": "code",
   "execution_count": 38,
   "metadata": {
    "scrolled": true
   },
   "outputs": [
    {
     "name": "stdout",
     "output_type": "stream",
     "text": [
      "Class 0: 42.84103720405862% of incomes, 0.42841037204058624 percentile\n",
      "Class 1: 40.69898534385569% of incomes, 0.8354002254791432 percentile\n",
      "Class 2: 16.459977452085685% of incomes, 1.0 percentile\n"
     ]
    }
   ],
   "source": [
    "#Percentiles using 3-Means Clustering\n",
    "total = sum(cluster_counts.values())\n",
    "running_sum = cluster_counts[0]\n",
    "print(\"Class 0: \" + str(cluster_counts[0]/total * 100) + \"% of incomes, \" + str(running_sum/total) + \" percentile\")\n",
    "running_sum += cluster_counts[1]\n",
    "print(\"Class 1: \" + str(cluster_counts[1]/total * 100) + \"% of incomes, \" + str(running_sum/total) + \" percentile\")\n",
    "running_sum += cluster_counts[2]\n",
    "print(\"Class 2: \" + str(cluster_counts[2]/total * 100) + \"% of incomes, \" + str(running_sum/total) + \" percentile\")"
   ]
  },
  {
   "cell_type": "code",
   "execution_count": 39,
   "metadata": {},
   "outputs": [
    {
     "name": "stdout",
     "output_type": "stream",
     "text": [
      "Counter({3: 339, 2: 241, 1: 206, 0: 101})\n"
     ]
    }
   ],
   "source": [
    "#Perform 4-Means Clustering\n",
    "km = KMeans(n_clusters = 4, random_state = 0)\n",
    "km.fit(counts_np)\n",
    "y = km.predict(counts_np)\n",
    "cluster_counts = Counter(y)\n",
    "print(cluster_counts)"
   ]
  },
  {
   "cell_type": "code",
   "execution_count": 40,
   "metadata": {
    "scrolled": false
   },
   "outputs": [
    {
     "name": "stdout",
     "output_type": "stream",
     "text": [
      "Class 0: 11.386696730552424% of incomes, 0.11386696730552424 percentile\n",
      "Class 1: 23.22435174746336% of incomes, 0.3461104847801578 percentile\n",
      "Class 2: 27.17023675310034% of incomes, 0.6178128523111612 percentile\n",
      "Class 3: 38.21871476888388% of incomes, 1.0 percentile\n"
     ]
    }
   ],
   "source": [
    "#Percentiles using 4-Means Clustering\n",
    "total = sum(cluster_counts.values())\n",
    "running_sum = cluster_counts[0]\n",
    "print(\"Class 0: \" + str(cluster_counts[0]/total * 100) + \"% of incomes, \" + str(running_sum/total) + \" percentile\")\n",
    "running_sum += cluster_counts[1]\n",
    "print(\"Class 1: \" + str(cluster_counts[1]/total * 100) + \"% of incomes, \" + str(running_sum/total) + \" percentile\")\n",
    "running_sum += cluster_counts[2]\n",
    "print(\"Class 2: \" + str(cluster_counts[2]/total * 100) + \"% of incomes, \" + str(running_sum/total) + \" percentile\")\n",
    "running_sum += cluster_counts[3]\n",
    "print(\"Class 3: \" + str(cluster_counts[3]/total * 100) + \"% of incomes, \" + str(running_sum/total) + \" percentile\")"
   ]
  }
 ],
 "metadata": {
  "kernelspec": {
   "display_name": "Python 3",
   "language": "python",
   "name": "python3"
  },
  "language_info": {
   "codemirror_mode": {
    "name": "ipython",
    "version": 3
   },
   "file_extension": ".py",
   "mimetype": "text/x-python",
   "name": "python",
   "nbconvert_exporter": "python",
   "pygments_lexer": "ipython3",
   "version": "3.6.7"
  }
 },
 "nbformat": 4,
 "nbformat_minor": 2
}
